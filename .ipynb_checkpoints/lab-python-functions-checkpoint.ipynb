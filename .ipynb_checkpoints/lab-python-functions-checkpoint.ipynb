{
 "cells": [
  {
   "cell_type": "markdown",
   "id": "25d7736c-ba17-4aff-b6bb-66eba20fbf4e",
   "metadata": {},
   "source": [
    "# Lab | Functions"
   ]
  },
  {
   "cell_type": "markdown",
   "id": "0c581062-8967-4d93-b06e-62833222f930",
   "metadata": {
    "tags": []
   },
   "source": [
    "## Exercise: Managing Customer Orders with Functions\n",
    "\n",
    "In the previous exercise, you improved the code for managing customer orders by using loops and flow control. Now, let's take it a step further and refactor the code by introducing functions.\n",
    "\n",
    "Follow the steps below to complete the exercise:\n",
    "\n",
    "1. Define a function named `initialize_inventory` that takes `products` as a parameter. Inside the function, implement the code for initializing the inventory dictionary using a loop and user input.\n",
    "\n",
    "2. Define a function named `get_customer_orders` that takes no parameters. Inside the function, implement the code for prompting the user to enter the product names using a loop. The function should return the `customer_orders` set.\n",
    "\n",
    "3. Define a function named `update_inventory` that takes `customer_orders` and `inventory` as parameters. Inside the function, implement the code for updating the inventory dictionary based on the customer orders.\n",
    "\n",
    "4. Define a function named `calculate_order_statistics` that takes `customer_orders` and `products` as parameters. Inside the function, implement the code for calculating the order statistics (total products ordered, and percentage of unique products ordered). The function should return these values.\n",
    "\n",
    "5. Define a function named `print_order_statistics` that takes `order_statistics` as a parameter. Inside the function, implement the code for printing the order statistics.\n",
    "\n",
    "6. Define a function named `print_updated_inventory` that takes `inventory` as a parameter. Inside the function, implement the code for printing the updated inventory.\n",
    "\n",
    "7. Call the functions in the appropriate sequence to execute the program and manage customer orders.\n",
    "\n",
    "Hints for functions:\n",
    "\n",
    "- Consider the input parameters required for each function and their return values.\n",
    "- Utilize function parameters and return values to transfer data between functions.\n",
    "- Test your functions individually to ensure they work correctly.\n",
    "\n",
    "\n"
   ]
  },
  {
   "cell_type": "code",
   "execution_count": 16,
   "id": "cb1de0c2",
   "metadata": {},
   "outputs": [],
   "source": [
    "def initialize_inventory(products: list):\n",
    "    '''\n",
    "    takes products as a parameter for initializing the inventory\n",
    "    returns inventory\n",
    "    \n",
    "    '''\n",
    "    inventory = {}\n",
    "    for element in products:\n",
    "        while True:\n",
    "            Values = (input(f'please enter the quantity of {element}, please make sure you enter a number otherwhise you can not move forward ' ))\n",
    "            if Values.isdigit():\n",
    "                inventory[element] = int(Values)\n",
    "                break\n",
    "    return inventory\n"
   ]
  },
  {
   "cell_type": "code",
   "execution_count": 8,
   "id": "9cdc4d48",
   "metadata": {},
   "outputs": [
    {
     "name": "stdout",
     "output_type": "stream",
     "text": [
      "please enter the quantity of t-shirt, please make sure you enter a number otherwhise you can not move forward 5\n",
      "please enter the quantity of mug, please make sure you enter a number otherwhise you can not move forward 6\n",
      "please enter the quantity of hat, please make sure you enter a number otherwhise you can not move forward 7\n",
      "please enter the quantity of book, please make sure you enter a number otherwhise you can not move forward u\n",
      "please enter the quantity of book, please make sure you enter a number otherwhise you can not move forward 8\n",
      "please enter the quantity of keychain, please make sure you enter a number otherwhise you can not move forward -6\n",
      "please enter the quantity of keychain, please make sure you enter a number otherwhise you can not move forward 6\n"
     ]
    },
    {
     "data": {
      "text/plain": [
       "{'t-shirt': 5, 'mug': 6, 'hat': 7, 'book': 8, 'keychain': 6}"
      ]
     },
     "execution_count": 8,
     "metadata": {},
     "output_type": "execute_result"
    }
   ],
   "source": [
    "initialize_inventory([\"t-shirt\", \"mug\", \"hat\", \"book\", \"keychain\"])"
   ]
  },
  {
   "cell_type": "code",
   "execution_count": 29,
   "id": "4fdb199d",
   "metadata": {},
   "outputs": [],
   "source": [
    "def get_customer_orders():\n",
    "    '''\n",
    "    Getting the order.\n",
    "    '''\n",
    "    products = [\"t-shirt\", \"mug\", \"hat\", \"book\", \"keychain\"]\n",
    "\n",
    "    customer_orders = set()\n",
    "    switch = True\n",
    "    while switch:\n",
    "        request = input(f'Please enter the name of a product from the following {products}: ')\n",
    "        request_low = request.lower()\n",
    "        while request_low not in products:\n",
    "            print('I think you did not enter the name correctly.')\n",
    "            request = input('Please enter the name of a product from the following list: t-shirt, mug, hat, book, keychain ')\n",
    "            request_low = request.lower()\n",
    "        \n",
    "        customer_orders.add(request_low)\n",
    "        flag = True\n",
    "        while flag:\n",
    "            users_answer = input('Do you want to add another product (yes/no): ').strip().upper()\n",
    "            if users_answer == 'YES':\n",
    "                switch = True\n",
    "                flag = False\n",
    "            elif users_answer != 'NO':\n",
    "                print('Please enter either yes or no.')\n",
    "            else:\n",
    "                switch = False\n",
    "                flag = False\n",
    "    print('Thank you for shopping.')\n",
    "    return customer_orders\n"
   ]
  },
  {
   "cell_type": "code",
   "execution_count": 30,
   "id": "e9b7ec1a",
   "metadata": {},
   "outputs": [
    {
     "name": "stdout",
     "output_type": "stream",
     "text": [
      "Please enter the name of a product from the following ['t-shirt', 'mug', 'hat', 'book', 'keychain']: t\n",
      "I think you did not enter the name correctly.\n",
      "Please enter the name of a product from the following list: t-shirt, mug, hat, book, keychain t-shirt\n",
      "Do you want to add another product (yes/no): fh\n",
      "Please enter either yes or no.\n",
      "Do you want to add another product (yes/no): yes\n",
      "Please enter the name of a product from the following ['t-shirt', 'mug', 'hat', 'book', 'keychain']: mug\n",
      "Do you want to add another product (yes/no): yes\n",
      "Please enter the name of a product from the following ['t-shirt', 'mug', 'hat', 'book', 'keychain']: book\n",
      "Do you want to add another product (yes/no): no\n",
      "Thank you for shopping.\n"
     ]
    },
    {
     "data": {
      "text/plain": [
       "{'book', 'mug', 't-shirt'}"
      ]
     },
     "execution_count": 30,
     "metadata": {},
     "output_type": "execute_result"
    }
   ],
   "source": [
    "get_customer_orders()"
   ]
  },
  {
   "cell_type": "code",
   "execution_count": 40,
   "id": "ab6a5fd9",
   "metadata": {},
   "outputs": [],
   "source": [
    "def update_inventory(customer_orders, inventory):\n",
    "    for order in customer_orders:\n",
    "            inventory[order] -= 1 \n",
    "    return inventory"
   ]
  },
  {
   "cell_type": "raw",
   "id": "05f7535b",
   "metadata": {},
   "source": [
    "Define a function named `calculate_order_statistics` that takes `customer_orders` and `products` as parameters. Inside the function, implement the code for calculating the order statistics (total products ordered, and percentage of unique products ordered). The function should return these values.\n"
   ]
  },
  {
   "cell_type": "code",
   "execution_count": 44,
   "id": "98887dd8",
   "metadata": {},
   "outputs": [],
   "source": [
    "def calculate_order_statistics(customer_orders, products):\n",
    "    total_unique_products = len(customer_orders)\n",
    "    percentage_unique_products = (total_unique_products / len(products)) * 100\n",
    "    return  total_unique_products, percentage_unique_products"
   ]
  },
  {
   "cell_type": "code",
   "execution_count": 45,
   "id": "4fcb90c2",
   "metadata": {},
   "outputs": [
    {
     "data": {
      "text/plain": [
       "(3, 60.0)"
      ]
     },
     "execution_count": 45,
     "metadata": {},
     "output_type": "execute_result"
    }
   ],
   "source": [
    "calculate_order_statistics({'book', 'mug', 't-shirt'},[\"t-shirt\", \"mug\", \"hat\", \"book\", \"keychain\"])"
   ]
  },
  {
   "cell_type": "code",
   "execution_count": 53,
   "id": "342fa27e",
   "metadata": {},
   "outputs": [],
   "source": [
    "def print_order_statistics (order_statistics):\n",
    "    print (f'total_unique_products: {order_statistics[0]}, percentage_unique_products: {order_statistics[1]}')\n",
    "\n",
    "def print_updated_inventory(inventory):\n",
    "    print(f'the updated inventory is {inventory}')"
   ]
  },
  {
   "cell_type": "code",
   "execution_count": 56,
   "id": "3416558d",
   "metadata": {},
   "outputs": [
    {
     "name": "stdout",
     "output_type": "stream",
     "text": [
      "total_unique_products: 3, percentage_unique_products: 60.0\n",
      "the updated inventory is {'t-shirt': 4, 'mug': 5, 'hat': 7, 'book': 7, 'keychain': 6}\n"
     ]
    }
   ],
   "source": [
    "updated_inventory = update_inventory({'book', 'mug', 't-shirt'},{'t-shirt': 5, 'mug': 6, 'hat': 7, 'book': 8, 'keychain': 6})\n",
    "print_order_statistics((3, 60.0))\n",
    "print_updated_inventory(updated_inventory)"
   ]
  }
 ],
 "metadata": {
  "kernelspec": {
   "display_name": "Python 3 (ipykernel)",
   "language": "python",
   "name": "python3"
  },
  "language_info": {
   "codemirror_mode": {
    "name": "ipython",
    "version": 3
   },
   "file_extension": ".py",
   "mimetype": "text/x-python",
   "name": "python",
   "nbconvert_exporter": "python",
   "pygments_lexer": "ipython3",
   "version": "3.11.5"
  }
 },
 "nbformat": 4,
 "nbformat_minor": 5
}
